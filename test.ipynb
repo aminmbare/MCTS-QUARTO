{
 "cells": [
  {
   "cell_type": "code",
   "execution_count": 1,
   "metadata": {},
   "outputs": [
    {
     "data": {
      "text/plain": [
       "[1, 0]"
      ]
     },
     "execution_count": 1,
     "metadata": {},
     "output_type": "execute_result"
    }
   ],
   "source": [
    "from typing import Union, Optional\n",
    "\n",
    "a : Optional[int]  = None\n",
    "[[0,1],[1,0],][True]"
   ]
  },
  {
   "cell_type": "code",
   "execution_count": 4,
   "metadata": {},
   "outputs": [],
   "source": [
    "class Student : \n",
    "    def __init__(self,avg, course) -> None:\n",
    "        self.avg = avg\n",
    "        self.course = course\n",
    "        \n"
   ]
  },
  {
   "cell_type": "code",
   "execution_count": 1,
   "metadata": {},
   "outputs": [
    {
     "ename": "NameError",
     "evalue": "name 'Student' is not defined",
     "output_type": "error",
     "traceback": [
      "\u001b[0;31m---------------------------------------------------------------------------\u001b[0m",
      "\u001b[0;31mNameError\u001b[0m                                 Traceback (most recent call last)",
      "Cell \u001b[0;32mIn [1], line 2\u001b[0m\n\u001b[1;32m      1\u001b[0m \u001b[39mfrom\u001b[39;00m \u001b[39mcopy\u001b[39;00m \u001b[39mimport\u001b[39;00m deepcopy \n\u001b[0;32m----> 2\u001b[0m A \u001b[39m=\u001b[39m Student(\u001b[39m24\u001b[39m,\u001b[39m\"\u001b[39m\u001b[39mict\u001b[39m\u001b[39m\"\u001b[39m)\n\u001b[1;32m      3\u001b[0m \u001b[39mprint\u001b[39m(\u001b[39mhash\u001b[39m(A))\n\u001b[1;32m      5\u001b[0m \u001b[39mprint\u001b[39m(\u001b[39mhash\u001b[39m(deepcopy(A)))\n",
      "\u001b[0;31mNameError\u001b[0m: name 'Student' is not defined"
     ]
    }
   ],
   "source": [
    "from copy import deepcopy \n",
    "A = Student(24,\"ict\")\n",
    "print(hash(A))\n",
    "\n",
    "print(hash(deepcopy(A)))\n",
    "import numpy as np \n",
    "a = list(range(5))\n",
    "b= str(np.array([[1,2,3],[2,3,4]]))\n",
    "print(type(b))\n",
    "str(True)"
   ]
  },
  {
   "cell_type": "code",
   "execution_count": 36,
   "metadata": {},
   "outputs": [
    {
     "name": "stdout",
     "output_type": "stream",
     "text": [
      "{(0, 1)}\n",
      "15\n"
     ]
    }
   ],
   "source": [
    "b = set( (x,y) for x in range(4) for y in range(4) )\n",
    "c = set(((0,1),))\n",
    "print(c)\n",
    "b = b - c\n",
    "print(len(b))\n",
    "\n",
    "\n"
   ]
  },
  {
   "cell_type": "code",
   "execution_count": 45,
   "metadata": {},
   "outputs": [
    {
     "data": {
      "text/plain": [
       "numpy.ndarray"
      ]
     },
     "execution_count": 45,
     "metadata": {},
     "output_type": "execute_result"
    }
   ],
   "source": [
    "a = set(range(16))\n",
    "\n",
    "a = a - set((3,))\n",
    "import numpy as np \n",
    "\n",
    "board = np.ones(shape=(4, 4), dtype=int) * -1\n",
    "type(board)"
   ]
  },
  {
   "cell_type": "code",
   "execution_count": null,
   "metadata": {},
   "outputs": [],
   "source": [
    "def get_available_pieces(board : np.ndarray)->set:\n",
    "    pieces = set(range(16))\n",
    "    pieces_on_board = set()\n",
    "    for row in board: \n",
    "        for element in row : \n",
    "            if element != 0 : \n",
    "                pieces_on_board.add(element)\n",
    "    return pieces - pieces_on_board\n",
    "\n",
    "def get_available_positions(board: np.ndarray)->list: \n",
    "    moves = list()\n",
    "    for i, row in enumerate(board): \n",
    "        for j,element in enumerate(row): \n",
    "            if element == -1 : \n",
    "                moves.append((i,j))     \n",
    "    return moves   \n",
    "\n",
    "class RandomPlayer(Player):\n",
    "    \"\"\"Random player\"\"\"\n",
    "\n",
    "    def __init__(self, quarto:Quarto) -> None:\n",
    "        super().__init__(quarto)\n",
    "\n",
    "    def choose_piece(self,available_pieces : list ) -> int:\n",
    "        return random.choice(available_pieces)\n",
    "\n",
    "    def place_piece(self,available_positions : list ) -> tuple[int, int]:\n",
    "        return random.choice(available_positions)      \n",
    "\n",
    "class Node: \n",
    "    ''' Two types of nodes \n",
    "     1 - selection nodes : { represent by the state (True for selection and false for placing), the player whether it's the minimizing ( False )or the maximizing ( True) player\n",
    "     ,N and Q , its  the children nodes  } 2 - placing nodes : {represent by the state (True for selection and false for placing), the player whether it's the minimizing ( False )or the maximizing ( True) player\n",
    "     ,N and Q , its  the children nodes}\n",
    "    ## '''\n",
    "    def __init__(self, board_status : np.ndarray  ,  phase : bool , player_turn : bool,piece : int  ) -> None:\n",
    "        self.board_state = board_status\n",
    "        self.N = 0\n",
    "        self.Q = 0 \n",
    "        self.piece = piece ## if the action that takes to this node comes from selection phase \n",
    "        self.player_turn = player_turn\n",
    "        if phase : \n",
    "            self.children={o :None for o in get_available_pieces(self.board_status) }\n",
    "        else :\n",
    "            self.children={o :None for o in get_available_positions(self.board_status) }    \n",
    "        \n",
    "    def __str__(self)-> str : \n",
    "        return  f\"Node(state={self.state}, N={self.N}, Q={self.Q}, children={self.children})\"\n",
    "    "
   ]
  },
  {
   "cell_type": "code",
   "execution_count": 1,
   "metadata": {},
   "outputs": [
    {
     "ename": "KeyError",
     "evalue": "0",
     "output_type": "error",
     "traceback": [
      "\u001b[0;31m---------------------------------------------------------------------------\u001b[0m",
      "\u001b[0;31mKeyError\u001b[0m                                  Traceback (most recent call last)",
      "Cell \u001b[0;32mIn [1], line 2\u001b[0m\n\u001b[1;32m      1\u001b[0m a \u001b[39m=\u001b[39m {\u001b[39m1\u001b[39m:\u001b[39m2\u001b[39m , \u001b[39m2\u001b[39m:\u001b[39m4\u001b[39m , \u001b[39m3\u001b[39m : \u001b[39m1\u001b[39m , \u001b[39m4\u001b[39m:\u001b[39m9\u001b[39m}\n\u001b[0;32m----> 2\u001b[0m a[\u001b[39m0\u001b[39m]\n",
      "\u001b[0;31mKeyError\u001b[0m: 0"
     ]
    }
   ],
   "source": [
    "a = {1:2 , 2:4 , 3 : 1 , 4:9}\n",
    "a[0]"
   ]
  },
  {
   "cell_type": "code",
   "execution_count": null,
   "metadata": {},
   "outputs": [],
   "source": [
    "while state is not None and not goal_test(state):\n",
    "        for a in possible_actions(state):\n",
    "            new_state = result(state, a)\n",
    "            cost = unit_cost(a)\n",
    "            if new_state not in state_cost and new_state not in frontier:\n",
    "                parent_state[new_state] = state\n",
    "                state_cost[new_state] = state_cost[state] + cost\n",
    "                frontier.push(new_state, p=priority_function(new_state))\n",
    "                logging.debug(f\"Added new node to frontier (cost={state_cost[new_state]})\")\n",
    "            elif new_state in frontier and state_cost[new_state] > state_cost[state] + cost:\n",
    "                old_cost = state_cost[new_state]\n",
    "                parent_state[new_state] = state\n",
    "                state_cost[new_state] = state_cost[state] + cost\n",
    "                logging.debug(f\"Updated node cost in frontier: {old_cost} -> {state_cost[new_state]}\")\n",
    "        if frontier:\n",
    "            state = frontier.pop()\n",
    "        else:\n",
    "            state = None\n",
    "\n",
    "    path = list()\n",
    "    s = state\n",
    "    while s:\n",
    "        path.append(s.copy_data())\n",
    "        s = parent_state[s]\n",
    "frontier = PriorityQueue()  \n",
    "CurrState = deepcopy(state)\n",
    "\n",
    "while True : \n",
    "    frontier = PriorityQueue()  \n",
    "    if CurrState.check_finished(): \n",
    "        logging.debug(\"game is over\")\n",
    "        return state, player , phase , piece\n",
    "    state_hash = self.hashing(CurrState,player, phase,piece)\n",
    "    self.history.add(state_hash)\n",
    "    node = self.states_to_nodes[state_hash]\n",
    "    for move, node_hash in node.children.items(): \n",
    "        if node_hash is None : \n",
    "            if type(move) is tuple : \n",
    "                    CurrState.place(*move)\n",
    "                else :   \n",
    "                    CurrState.select(move)\n",
    "                    piece = move \n",
    "            new_player, new_phase = self.get_player_and_phase(player, phase)\n",
    "            new_hash = self.hashing(CurrState, new_player, new_phase,piece)\n",
    "            node.children[move] = new_hash\n",
    "            return CurrState,new_player ,new_phase , piece  \n",
    "        game_node = self.states_to_nodes[game_hash]\n",
    "        w = game_node.Q\n",
    "        n = game_node.N\n",
    "        N = node.N\n",
    "        player = game_node.player_turn  \n",
    "        frontier.push(move , p = -self.compute_ucb(w,n,N))\n",
    "    move = frontier.pop()\n",
    "    if type(move) is tuple : \n",
    "        CurrState.place(*chosen_move)\n",
    "    else : \n",
    "        CurrState.select(chosen_move)\n",
    "        piece = chosen_move\n",
    "    phase = not phase\n",
    "    \n",
    "     \n",
    "     "
   ]
  },
  {
   "cell_type": "code",
   "execution_count": null,
   "metadata": {},
   "outputs": [],
   "source": [
    "def explore(self, state: Quarto,player: bool , phase : bool,piece : int): \n",
    "        CurrState = deepcopy(state)\n",
    "\n",
    "        while True : \n",
    "            frontier = PriorityQueue()  \n",
    "            if CurrState.check_finished(): \n",
    "                logging.debug(\"game is over\")\n",
    "                return state, player , phase , piece\n",
    "            \n",
    "            state_hash = self.hashing(CurrState,player, phase,piece)\n",
    "            self.history.add(state_hash)\n",
    "            node = self.states_to_nodes[state_hash]\n",
    "            for move, node_hash in node.children.items(): \n",
    "                if node_hash is None : \n",
    "                    if type(move) is tuple : \n",
    "                            CurrState.place(*move)\n",
    "                    else :   \n",
    "                        CurrState.select(move)\n",
    "                        piece = move \n",
    "                    new_player, new_phase = self.get_player_and_phase(player, phase)\n",
    "                    new_hash = self.hashing(CurrState, new_player, new_phase,piece)\n",
    "                    node.children[move] = new_hash\n",
    "                    return CurrState,new_player ,new_phase , piece  \n",
    "                game_node = self.states_to_nodes[node_hash]\n",
    "                w = game_node.Q\n",
    "                n = game_node.N\n",
    "                N = node.N\n",
    "                turn = game_node.player_turn  \n",
    "                frontier.push(move , p = -self.compute_ucb(w,n,N))\n",
    "            chosen_move = frontier.pop()\n",
    "            if type(move) is tuple : \n",
    "                CurrState.place(*chosen_move)\n",
    "            else : \n",
    "                CurrState.select(chosen_move)\n",
    "                piece = chosen_move\n",
    "            phase = not phase\n",
    "            player = turn "
   ]
  },
  {
   "cell_type": "code",
   "execution_count": 14,
   "metadata": {},
   "outputs": [
    {
     "data": {
      "text/plain": [
       "{0, 1, 3}"
      ]
     },
     "execution_count": 14,
     "metadata": {},
     "output_type": "execute_result"
    }
   ],
   "source": [
    "import numpy as  np \n",
    "\n",
    "\n",
    "a =set(list(range(4)))\n",
    "\n",
    "a\n",
    "b =set((2,-1,-1))\n"
   ]
  },
  {
   "cell_type": "code",
   "execution_count": 22,
   "metadata": {},
   "outputs": [
    {
     "data": {
      "text/plain": [
       "{1}"
      ]
     },
     "execution_count": 22,
     "metadata": {},
     "output_type": "execute_result"
    }
   ],
   "source": [
    "a = np.ones((3,3),dtype = int)\n",
    "a[0,0]= 0\n",
    "a =set(a[a==1])\n",
    "\n",
    "a"
   ]
  },
  {
   "cell_type": "code",
   "execution_count": null,
   "metadata": {},
   "outputs": [],
   "source": []
  }
 ],
 "metadata": {
  "kernelspec": {
   "display_name": "Python 3",
   "language": "python",
   "name": "python3"
  },
  "language_info": {
   "codemirror_mode": {
    "name": "ipython",
    "version": 3
   },
   "file_extension": ".py",
   "mimetype": "text/x-python",
   "name": "python",
   "nbconvert_exporter": "python",
   "pygments_lexer": "ipython3",
   "version": "3.9.7 (v3.9.7:1016ef3790, Aug 30 2021, 16:39:15) \n[Clang 6.0 (clang-600.0.57)]"
  },
  "orig_nbformat": 4,
  "vscode": {
   "interpreter": {
    "hash": "397704579725e15f5c7cb49fe5f0341eb7531c82d19f2c29d197e8b64ab5776b"
   }
  }
 },
 "nbformat": 4,
 "nbformat_minor": 2
}
